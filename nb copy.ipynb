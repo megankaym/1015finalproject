{
 "cells": [
  {
   "cell_type": "code",
   "execution_count": null,
   "metadata": {},
   "outputs": [],
   "source": [
    "# this notebook does NOT contain any data wrangling code, to maintain the privacy and security of the original dataset\n",
    "# awaiting response to share request, if not recieved in the next day or say, I will create fake data for this to be run on\n",
    "# any feedback would be greatly appreciated!\n",
    "# goal:  make a machine learning model that, based on previous antibiotic exposure and prior infecting organisms, predicts how likely it is for women of ages 18-25 (white or non-white) with no prior procedures to develop resistance to common antibiotics.\n",
    "\n",
    "import numpy as np\n",
    "np.random.seed(1)  # Set a random seed for reproducibility\n",
    "uti_feat_df['test_split'] = np.where(np.random.rand(len(uti_feat_df)) < 0.8, 0, 1) # 0 is train, 1 is test\n",
    "uti_feat_df.head\n",
    "\n",
    "from sklearn.model_selection import train_test_split\n",
    "from sklearn.ensemble import RandomForestClassifier\n",
    "from sklearn.metrics import accuracy_score\n",
    "\n",
    "# Split the data into features and target\n",
    "features = uti_feat_df.drop(\"test_split\", axis=1)\n",
    "target = uti_feat_df[\"test_split\"]\n",
    "\n",
    "# Split the data into training and testing sets\n",
    "X_train, X_test, y_train, y_test = train_test_split(features, target, test_size=0.2, random_state=42)\n",
    "\n",
    "# Create a Random Forest classifier\n",
    "rf_model = RandomForestClassifier(random_state=42)\n",
    "\n",
    "# Train the model\n",
    "rf_model.fit(X_train, y_train)\n",
    "\n",
    "# Make predictions on the test set\n",
    "y_pred = rf_model.predict(X_test)\n",
    "\n",
    "# Calculate accuracy\n",
    "accuracy = accuracy_score(y_test, y_pred)\n",
    "print(\"Accuracy:\", accuracy)"
   ]
  }
 ],
 "metadata": {
  "kernelspec": {
   "display_name": "Python 3 (ipykernel)",
   "language": "python",
   "name": "python3"
  },
  "language_info": {
   "codemirror_mode": {
    "name": "ipython",
    "version": 3
   },
   "file_extension": ".py",
   "mimetype": "text/x-python",
   "name": "python",
   "nbconvert_exporter": "python",
   "pygments_lexer": "ipython3",
   "version": "3.9.7"
  }
 },
 "nbformat": 4,
 "nbformat_minor": 2
}
